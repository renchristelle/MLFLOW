{
  "nbformat": 4,
  "nbformat_minor": 0,
  "metadata": {
    "kernelspec": {
      "display_name": "Python (env py36_mlflow)",
      "language": "python",
      "name": "py-dku-venv-py36_mlflow"
    },
    "associatedRecipe": "recipe_from_notebook_import_mlflow_models",
    "dkuGit": {
      "lastInteraction": 0
    },
    "creationTag": {
      "versionNumber": 0,
      "lastModifiedBy": {
        "login": "admin"
      },
      "lastModifiedOn": 1658215319553
    },
    "creator": "admin",
    "createdOn": 1658215319553,
    "tags": [
      "recipe-editor"
    ],
    "customFields": {}
  },
  "cells": [
    {
      "cell_type": "markdown",
      "metadata": {},
      "source": [
        "# Importing mlflow models in DSS\n",
        "\n",
        "In this notebook we show through a simple example how to import a machine learning model trained *entirely out of DSS* into a SavedModel in a project\u0027s Flow. We use the [Catboost]() framework to perform a binary classification task on the [UCI Bank dataset]()."
      ]
    },
    {
      "cell_type": "code",
      "metadata": {},
      "outputs": [],
      "execution_count": 0,
      "source": [
        "import dataiku\n",
        "import dataikuapi\n",
        "import os\n",
        "\n",
        "from dataikuapi.dss.ml import DSSPredictionMLTaskSettings"
      ]
    },
    {
      "cell_type": "markdown",
      "metadata": {},
      "source": [
        "## Step 1: train your model outside of DSS\n",
        "\n",
        "Using the archive data and source files provided along with this notebook, perform the following actions *outside of DSS*:\n",
        "* Create a virtual environment using Python \u003e\u003d 3.6 and install the packages listed in `requirement.txt`\n",
        "* Activate the newly-created virtual environment\n",
        "* Go to `src/` and train the model by running `python train_catboost.py`. The resulting model artifact will be stored in the `dist/` directory, its name should be of the form `catboost-uci-bank-xxxxxxxx-xxxxxx`.\n",
        "\n",
        "\u003e **WARNING**: Any pre-processing step applied to the training data **MUST** also be applied to the evaluation data."
      ]
    },
    {
      "cell_type": "markdown",
      "metadata": {},
      "source": [
        "## Step 2: create the code env in DSS\n",
        "\n",
        "In the *Administration \u003e Code envs* section of DSS, crate a new code environment and add the packages listed in the archive\u0027s `requirement.txt` file (minus `pandas`), then build the code-env.\n",
        "\n",
        "\u003e **This notebook should be running using that code env ! **\n",
        "\n",
        "Write down the name of that code env, you will need it to call `import_mlflow_version_from_path()`."
      ]
    },
    {
      "cell_type": "markdown",
      "metadata": {},
      "source": [
        "## Step 3: get a handle on a SavedModel"
      ]
    },
    {
      "cell_type": "code",
      "metadata": {},
      "outputs": [],
      "execution_count": 0,
      "source": [
        "client \u003d dataiku.api_client()\n",
        "project \u003d client.get_default_project()\n",
        "\n",
        "# Get or create SavedModel\n",
        "sm_name \u003d \"catboost-uci-bank\"\n",
        "sm_id \u003d None\n",
        "for sm in project.list_saved_models():\n",
        "    if sm_name !\u003d sm[\"name\"]:\n",
        "        continue\n",
        "    else:\n",
        "        sm_id \u003d sm[\"id\"]\n",
        "        print(\"Found SavedModel {} with id {}\".format(sm_name, sm_id))\n",
        "        break\n",
        "if sm_id:\n",
        "    sm \u003d project.get_saved_model(sm_id)\n",
        "else:\n",
        "    sm \u003d project.create_mlflow_pyfunc_model(name\u003dsm_name,\n",
        "                                            prediction_type\u003dDSSPredictionMLTaskSettings.PredictionTypes.BINARY)\n",
        "    sm_id \u003d sm.id\n",
        "    print(\"SavedModel not found, created new one with id {}\".format(sm_id))"
      ]
    },
    {
      "cell_type": "markdown",
      "metadata": {},
      "source": [
        "## Step 4: import the evaluation dataset\n",
        "\n",
        "Create a new Dataset in your DSS project by uploading `data/uci-bank-marketing/eval_data.csv`. Call this Dataset `eval_data`.\n",
        "\n",
        "\u003e **WARNING**: The evaluation Dataset **MUST** already be preprocessed using the exact same steps as in step 1 !"
      ]
    },
    {
      "cell_type": "markdown",
      "metadata": {},
      "source": [
        "## Step 5: Import mlflow model into a SavedModel version"
      ]
    },
    {
      "cell_type": "code",
      "metadata": {},
      "outputs": [],
      "execution_count": 0,
      "source": [
        "# Change the following values to match your setup !\n",
        "MLFLOW_DIST_DIR \u003d \"/Users/hrajaona/Projects/repos/tce/demo-mlflow/mlflow-model-import/dist/\"\n",
        "CATBOOST_MODEL_DIR \u003d \"catboost-uci-bank-20211206-151341\"\n",
        "\n",
        "version_id \u003d \"v01\" # Change this to iterate to a new version\n",
        "model_dir \u003d os.path.join(MLFLOW_DIST_DIR, CATBOOST_MODEL_DIR)\n",
        "\n",
        "# Create version in SavedModel\n",
        "for v in sm.list_versions():\n",
        "    if v[\"id\"] \u003d\u003d version_id:\n",
        "        raise Exception(\"SavedModel version already exists! Choose a new version name.\")\n",
        "\n",
        "sm_version \u003d sm.import_mlflow_version_from_path(version_id\u003dversion_id,\n",
        "                                                path\u003dmodel_dir,\n",
        "                                                code_env_name\u003d\"mlflow_catboost\")\n",
        "# Evaluate the version using the previously created Dataset\n",
        "sm_version.set_core_metadata(target_column_name\u003d\"y\",\n",
        "                             class_labels\u003d[\"no\", \"yes\"],\n",
        "                             get_features_from_dataset\u003d\"eval_data\")\n",
        "sm_version.evaluate(\"eval_data\")"
      ]
    },
    {
      "cell_type": "code",
      "metadata": {},
      "outputs": [],
      "execution_count": 0,
      "source": [
        "# Change the following values to match your setup !\n",
        "MLFLOW_DIST_DIR \u003d \"/Users/christelleren/DSS/workspace/mlflow/mlflow-model-import/dist\"\n",
        "CATBOOST_MODEL_DIR \u003d \"catboost-uci-bank-20220714-163303\"\n",
        "\n",
        "version_id \u003d \"v02\" # Change this to iterate to a new version\n",
        "model_dir \u003d os.path.join(MLFLOW_DIST_DIR, CATBOOST_MODEL_DIR)\n",
        "\n",
        "# Create version in SavedModel\n",
        "for v in sm.list_versions():\n",
        "    if v[\"id\"] \u003d\u003d version_id:\n",
        "        raise Exception(\"SavedModel version already exists! Choose a new version name.\")"
      ]
    },
    {
      "cell_type": "code",
      "metadata": {},
      "outputs": [],
      "execution_count": 0,
      "source": [
        "# Load MLflow model as a new version of DSS Saved Mdodel from DSS gost local filesystem\n",
        "sm_version \u003d sm.import_mlflow_version_from_path(version_id\u003dversion_id,\n",
        "                                                path\u003dmodel_dir,\n",
        "                                                code_env_name\u003d\"py36_mlflow\")\n",
        "\n",
        "# Load MLflow model as a new version of DSS Saved Mdodel from DSS managed folder\n",
        "# mlflow_version \u003d saved_model.import_mlflow_version_from_managed_folder(\u0027version_id\u0027, \u0027managed_folder_id\u0027, path_of_model, \u0027code-environment-to-use\u0027)\n",
        "\n",
        "# Evaluate the version using the previously created Dataset\n",
        "sm_version.set_core_metadata(target_column_name\u003d\"y\",\n",
        "                             class_labels\u003d[\"no\", \"yes\"],\n",
        "                             get_features_from_dataset\u003d\"eval_data\")\n",
        "sm_version.evaluate(\"eval_data\")"
      ]
    },
    {
      "cell_type": "markdown",
      "metadata": {},
      "source": [
        "If you go to the SavedModel\u0027s version screen, you should now be able to see properly all the \"Performance\" visualizations."
      ]
    }
  ]
}