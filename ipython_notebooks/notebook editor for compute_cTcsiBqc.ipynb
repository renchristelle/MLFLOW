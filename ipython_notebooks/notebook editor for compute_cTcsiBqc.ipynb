{
  "metadata": {
    "kernelspec": {
      "name": "py-dku-venv-py36_mlflow",
      "display_name": "Python (env py36_mlflow)",
      "language": "python"
    },
    "associatedRecipe": "compute_cTcsiBqc",
    "dkuGit": {
      "lastInteraction": 0
    },
    "creationTag": {
      "versionNumber": 0,
      "lastModifiedBy": {
        "login": "admin"
      },
      "lastModifiedOn": 1658215676124
    },
    "creator": "admin",
    "createdOn": 1658215676124,
    "tags": [
      "recipe-editor"
    ],
    "customFields": {},
    "hide_input": false,
    "language_info": {
      "name": "python",
      "version": "3.6.15",
      "mimetype": "text/x-python",
      "codemirror_mode": {
        "name": "ipython",
        "version": 3
      },
      "pygments_lexer": "ipython3",
      "nbconvert_exporter": "python",
      "file_extension": ".py"
    },
    "modifiedBy": "admin"
  },
  "nbformat": 4,
  "nbformat_minor": 1,
  "cells": [
    {
      "execution_count": 1,
      "cell_type": "code",
      "metadata": {},
      "source": [
        "import os\nimport shutil\nimport dataiku\nimport pandas as pd\nimport mlflow\nfrom sklearn.linear_model import LogisticRegression"
      ],
      "outputs": [
        {
          "output_type": "stream",
          "text": "/Users/christelleren/DSS/design/code-envs/python/py36_mlflow/lib/python3.6/site-packages/pandas/compat/__init__.py:117: UserWarning: Could not import the lzma module. Your installed Python is incomplete. Attempting to use lzma compression will result in a RuntimeError.\n  warnings.warn(msg)\n/Users/christelleren/DSS/design/code-envs/python/py36_mlflow/lib/python3.6/site-packages/ipykernel_launcher.py:5: FutureWarning: MLflow support for Python 3.6 is deprecated and will be dropped in an upcoming release. At that point, existing Python 3.6 workflows that use MLflow will continue to work without modification, but Python 3.6 users will no longer get access to the latest MLflow features and bugfixes. We recommend that you upgrade to Python 3.7 or newer.\n  \"\"\"\n",
          "name": "stderr"
        }
      ]
    },
    {
      "execution_count": 2,
      "cell_type": "code",
      "metadata": {},
      "source": [
        "from dss_mlflow import preprocessing"
      ],
      "outputs": []
    },
    {
      "execution_count": 3,
      "cell_type": "code",
      "metadata": {},
      "source": [
        "client \u003d dataiku.api_client()\nproject \u003d client.get_default_project()"
      ],
      "outputs": []
    },
    {
      "execution_count": 4,
      "cell_type": "code",
      "metadata": {},
      "source": [
        "# get train dataset\ntrain_dataset \u003d dataiku.Dataset(\"training_data\")\nevaluation_dataset \u003d dataiku.Dataset(\"eval_data\")"
      ],
      "outputs": []
    },
    {
      "execution_count": 5,
      "cell_type": "code",
      "metadata": {},
      "source": [
        "# get output saved model\nsm \u003d project.get_saved_model(\"VdHxdbkg\")\n\n# get train dataset as a pandas dataframe\ndf \u003d train_dataset.get_dataframe()"
      ],
      "outputs": []
    },
    {
      "execution_count": 6,
      "cell_type": "code",
      "metadata": {},
      "source": [
        "# get the path of a local managed folder where to temporarily save the trained model\nmf \u003d dataiku.Folder(\"cTcsiBqc\")\npath \u003d mf.get_path()\n\nmodel_subdir \u003d \"my_subdir\"\nmodel_dir \u003d os.path.join(path, model_subdir)"
      ],
      "outputs": []
    },
    {
      "execution_count": 7,
      "cell_type": "code",
      "metadata": {},
      "source": [
        "X, y \u003d preprocessing.clean_df(df)"
      ],
      "outputs": []
    },
    {
      "execution_count": 9,
      "cell_type": "code",
      "metadata": {},
      "source": [
        "if os.path.exists(model_dir):\n    shutil.rmtree(model_dir)\n\ntry:\n    # ...train your model...\n    clf \u003d LogisticRegression(random_state\u003d0).fit(X, y)\n\n    # ...save it with package specific MLflow method (here, SKlearn)...\n    mlflow.sklearn.save_model(clf, model_dir)\n\n    # import the model, creating a new version\n    mlflow_version \u003d sm.import_mlflow_version_from_managed_folder(\"v03\", \"cTcsiBqc\", model_subdir, \"py36_mlflow\")\nfinally:\n    shutil.rmtree(model_dir)"
      ],
      "outputs": [
        {
          "output_type": "stream",
          "text": "/Users/christelleren/DSS/design/code-envs/python/py36_mlflow/lib/python3.6/site-packages/sklearn/linear_model/logistic.py:433: FutureWarning: Default solver will be changed to \u0027lbfgs\u0027 in 0.22. Specify a solver to silence this warning.\n  FutureWarning)\n",
          "name": "stderr"
        }
      ]
    },
    {
      "execution_count": 0,
      "cell_type": "code",
      "metadata": {},
      "source": [
        "# setting metadata (target name, classes,...)\nmlflow_version.set_core_metadata(target_column_name\u003d\"y\",\n                             class_labels\u003d[\"no\", \"yes\"],\n                             get_features_from_dataset\u003d\"eval_data_prepared\")"
      ],
      "outputs": []
    },
    {
      "execution_count": 0,
      "cell_type": "code",
      "metadata": {},
      "source": [
        "# evaluate the performance of this new version, to populate the performance screens of the saved model version in DSS\nmlflow_version.evaluate(\"eval_data_prepared\")"
      ],
      "outputs": []
    }
  ]
}