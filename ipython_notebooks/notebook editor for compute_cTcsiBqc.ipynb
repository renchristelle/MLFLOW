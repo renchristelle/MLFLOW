{
  "nbformat": 4,
  "nbformat_minor": 0,
  "metadata": {
    "kernelspec": {
      "display_name": "Python (env py36_mlflow)",
      "language": "python",
      "name": "py-dku-venv-py36_mlflow"
    },
    "associatedRecipe": "compute_cTcsiBqc",
    "dkuGit": {
      "lastInteraction": 0
    },
    "creationTag": {
      "versionNumber": 0,
      "lastModifiedBy": {
        "login": "admin"
      },
      "lastModifiedOn": 1658215676124
    },
    "creator": "admin",
    "createdOn": 1658215676124,
    "tags": [
      "recipe-editor"
    ],
    "customFields": {}
  },
  "cells": [
    {
      "cell_type": "code",
      "metadata": {},
      "outputs": [],
      "execution_count": 0,
      "source": [
        "import os\n",
        "import shutil\n",
        "import dataiku\n",
        "import pandas as pd\n",
        "import mlflow"
      ]
    },
    {
      "cell_type": "code",
      "metadata": {},
      "outputs": [],
      "execution_count": 0,
      "source": [
        "client \u003d dataiku.api_client()\n",
        "project \u003d client.get_default_project()"
      ]
    },
    {
      "cell_type": "code",
      "metadata": {},
      "outputs": [],
      "execution_count": 0,
      "source": [
        "# get train dataset\n",
        "train_dataset \u003d dataiku.Dataset(\"training_data\")\n",
        "evaluation_dataset \u003d dataiku.Dataset(\"eval_data\")"
      ]
    },
    {
      "cell_type": "code",
      "metadata": {},
      "outputs": [],
      "execution_count": 0,
      "source": [
        "# get output saved model\n",
        "sm \u003d project.get_saved_model(\"VdHxdbkg\")\n",
        "\n",
        "# get train dataset as a pandas dataframe\n",
        "df \u003d train_dataset.get_dataframe()"
      ]
    },
    {
      "cell_type": "code",
      "metadata": {},
      "outputs": [],
      "execution_count": 0,
      "source": [
        "# get the path of a local managed folder where to temporarily save the trained model\n",
        "mf \u003d dataiku.Folder(\"cTcsiBqc\")\n",
        "path \u003d mf.get_path()"
      ]
    },
    {
      "cell_type": "code",
      "metadata": {},
      "outputs": [],
      "execution_count": 0,
      "source": [
        "model_subdir \u003d \"my_subdir\"\n",
        "model_dir \u003d os.path.join(path, model_subdir)"
      ]
    },
    {
      "cell_type": "code",
      "metadata": {},
      "outputs": [],
      "execution_count": 0,
      "source": [
        "from sklearn.linear_model import LogisticRegression"
      ]
    },
    {
      "cell_type": "code",
      "metadata": {},
      "outputs": [],
      "execution_count": 0,
      "source": [
        "y \u003d df[\u0027y\u0027]\n",
        "X \u003d df.drop(\u0027y\u0027, axis\u003d1)"
      ]
    },
    {
      "cell_type": "code",
      "metadata": {},
      "outputs": [],
      "execution_count": 0,
      "source": [
        "job_df \u003d pd.get_dummies(df.job, prefix\u003d\u0027job\u0027)\n",
        "marital_df \u003d pd.get_dummies(df.marital, prefix\u003d\u0027marital\u0027)\n",
        "education_df \u003d pd.get_dummies(df.education, prefix\u003d\u0027education\u0027)"
      ]
    },
    {
      "cell_type": "code",
      "metadata": {},
      "outputs": [],
      "execution_count": 0,
      "source": [
        "month_dic \u003d {\n",
        "    \u0027apr\u0027: 5,\n",
        "    \u0027aug\u0027: 8,\n",
        "    \u0027dec\u0027: 12,\n",
        "    \u0027feb\u0027: 2,\n",
        "    \u0027jan\u0027: 1,\n",
        "    \u0027jul\u0027: 7,\n",
        "    \u0027jun\u0027: 6,\n",
        "    \u0027mar\u0027: 3,\n",
        "    \u0027may\u0027: 5,\n",
        "    \u0027nov\u0027: 11,\n",
        "    \u0027oct\u0027: 10,\n",
        "    \u0027sep\u0027: 9}"
      ]
    },
    {
      "cell_type": "code",
      "metadata": {},
      "outputs": [],
      "execution_count": 0,
      "source": [
        "X.drop([\u0027job\u0027, \u0027marital\u0027, \u0027education\u0027], axis\u003d1, inplace\u003dTrue)\n",
        "X \u003d pd.concat([X, job_df, marital_df, education_df], axis\u003d1)\n",
        "X.month.replace(month_dic, inplace\u003dTrue)\n",
        "X.replace({\"no\": 0, \"yes\": 1}, inplace\u003dTrue)\n",
        "clf \u003d LogisticRegression(random_state\u003d0).fit(X, y)"
      ]
    },
    {
      "cell_type": "code",
      "metadata": {},
      "outputs": [],
      "execution_count": 0,
      "source": [
        "if os.path.exists(model_dir):\n",
        "    shutil.rmtree(model_dir)\n",
        "\n",
        "try:\n",
        "    # ...train your model...\n",
        "    clf \u003d LogisticRegression(random_state\u003d0).fit(X, y)\n",
        "\n",
        "    # ...save it with package specific MLflow method (here, SKlearn)...\n",
        "    mlflow.sklearn.save_model(clf, model_dir)\n",
        "\n",
        "    # import the model, creating a new version\n",
        "    mlflow_version \u003d sm.import_mlflow_version_from_managed_folder(\"v03\", \"cTcsiBqc\", model_subdir, \"py36_mlflow\")\n",
        "finally:\n",
        "    shutil.rmtree(model_dir)"
      ]
    },
    {
      "cell_type": "code",
      "metadata": {},
      "outputs": [],
      "execution_count": 0,
      "source": [
        "# setting metadata (target name, classes,...)\n",
        "mlflow_version.set_core_metadata(target_column_name\u003d\"y\",\n",
        "                             class_labels\u003d[\"no\", \"yes\"],\n",
        "                             get_features_from_dataset\u003d\"eval_data_prepared\")"
      ]
    },
    {
      "cell_type": "code",
      "metadata": {},
      "outputs": [],
      "execution_count": 0,
      "source": [
        "# evaluate the performance of this new version, to populate the performance screens of the saved model version in DSS\n",
        "mlflow_version.evaluate(\"eval_data_prepared\")"
      ]
    }
  ]
}