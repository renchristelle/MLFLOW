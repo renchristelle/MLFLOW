{
  "nbformat": 4,
  "nbformat_minor": 0,
  "metadata": {
    "kernelspec": {
      "display_name": "Python (env py36_mlflow)",
      "language": "python",
      "name": "py-dku-venv-py36_mlflow"
    },
    "associatedRecipe": "compute_cTcsiBqc",
    "dkuGit": {
      "lastInteraction": 0
    },
    "creationTag": {
      "versionNumber": 0,
      "lastModifiedBy": {
        "login": "admin"
      },
      "lastModifiedOn": 1658215676124
    },
    "creator": "admin",
    "createdOn": 1658215676124,
    "tags": [
      "recipe-editor"
    ],
    "customFields": {}
  },
  "cells": [
    {
      "cell_type": "code",
      "metadata": {},
      "outputs": [],
      "execution_count": 0,
      "source": [
        "import os\n",
        "import shutil\n",
        "import dataiku\n",
        "import pandas as pd\n",
        "import mlflow\n",
        "from sklearn.linear_model import LogisticRegression\n",
        "from dss_mlflow import preprocessing"
      ]
    },
    {
      "cell_type": "code",
      "metadata": {},
      "outputs": [],
      "execution_count": 0,
      "source": [
        "client \u003d dataiku.api_client()\n",
        "project \u003d client.get_default_project()"
      ]
    },
    {
      "cell_type": "code",
      "metadata": {},
      "outputs": [],
      "execution_count": 0,
      "source": [
        "# get train dataset\n",
        "train_dataset \u003d dataiku.Dataset(\"training_data\")\n",
        "\n",
        "# get train dataset as a pandas dataframe\n",
        "df \u003d train_dataset.get_dataframe()"
      ]
    },
    {
      "cell_type": "code",
      "metadata": {},
      "outputs": [],
      "execution_count": 0,
      "source": [
        "# Get or create SavedModel\n",
        "sm_name \u003d \"catboost-uci-bank-trained\"\n",
        "sm_id \u003d None\n",
        "for sm in project.list_saved_models():\n",
        "    if sm_name !\u003d sm[\"name\"]:\n",
        "        continue\n",
        "    else:\n",
        "        sm_id \u003d sm[\"id\"]\n",
        "        print(\"Found SavedModel {} with id {}\".format(sm_name, sm_id))\n",
        "        break\n",
        "if sm_id:\n",
        "    sm \u003d project.get_saved_model(sm_id)\n",
        "else:\n",
        "    sm \u003d project.create_mlflow_pyfunc_model(name\u003dsm_name,\n",
        "                                            prediction_type\u003dDSSPredictionMLTaskSettings.PredictionTypes.BINARY)\n",
        "    sm_id \u003d sm.id\n",
        "    print(\"SavedModel not found, created new one with id {}\".format(sm_id))"
      ]
    },
    {
      "cell_type": "code",
      "metadata": {},
      "outputs": [],
      "execution_count": 0,
      "source": [
        "# get the path of a local managed folder where to temporarily save the trained model\n",
        "mf \u003d dataiku.Folder(\"cTcsiBqc\")\n",
        "path \u003d mf.get_path()\n",
        "\n",
        "model_subdir \u003d \"my_subdir\"\n",
        "model_dir \u003d os.path.join(path, model_subdir)"
      ]
    },
    {
      "cell_type": "code",
      "metadata": {},
      "outputs": [],
      "execution_count": 0,
      "source": [
        "X, y \u003d preprocessing.clean_df(df)"
      ]
    },
    {
      "cell_type": "code",
      "metadata": {},
      "outputs": [],
      "execution_count": 0,
      "source": [
        "if os.path.exists(model_dir):\n",
        "    shutil.rmtree(model_dir)\n",
        "\n",
        "try:\n",
        "    # ...train your model...\n",
        "    clf \u003d LogisticRegression(random_state\u003d0).fit(X, y)\n",
        "\n",
        "    # ...save it with package specific MLflow method (here, SKlearn)...\n",
        "    mlflow.sklearn.save_model(clf, model_dir)\n",
        "\n",
        "    # import the model, creating a new version\n",
        "    mlflow_version \u003d sm.import_mlflow_version_from_managed_folder(\"v03\", \"cTcsiBqc\", model_subdir, \"py36_mlflow\")\n",
        "finally:\n",
        "    shutil.rmtree(model_dir)"
      ]
    },
    {
      "cell_type": "code",
      "metadata": {},
      "outputs": [],
      "execution_count": 0,
      "source": [
        "# setting metadata (target name, classes,...)\n",
        "mlflow_version.set_core_metadata(target_column_name\u003d\"y\",\n",
        "                             class_labels\u003d[\"no\", \"yes\"],\n",
        "                             get_features_from_dataset\u003d\"eval_data_prepared\")"
      ]
    },
    {
      "cell_type": "code",
      "metadata": {},
      "outputs": [],
      "execution_count": 0,
      "source": [
        "# evaluate the performance of this new version, to populate the performance screens of the saved model version in DSS\n",
        "mlflow_version.evaluate(\"eval_data_prepared\")"
      ]
    }
  ]
}