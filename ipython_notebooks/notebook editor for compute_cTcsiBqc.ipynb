{
  "metadata": {
    "kernelspec": {
      "name": "py-dku-venv-py36_mlflow",
      "display_name": "Python (env py36_mlflow)",
      "language": "python"
    },
    "associatedRecipe": "compute_cTcsiBqc",
    "dkuGit": {
      "lastInteraction": 0
    },
    "creationTag": {
      "versionNumber": 0,
      "lastModifiedBy": {
        "login": "admin"
      },
      "lastModifiedOn": 1658215676124
    },
    "creator": "admin",
    "createdOn": 1658215676124,
    "tags": [
      "recipe-editor"
    ],
    "customFields": {},
    "hide_input": false,
    "language_info": {
      "name": "python",
      "version": "3.6.15",
      "mimetype": "text/x-python",
      "codemirror_mode": {
        "name": "ipython",
        "version": 3
      },
      "pygments_lexer": "ipython3",
      "nbconvert_exporter": "python",
      "file_extension": ".py"
    },
    "modifiedBy": "admin"
  },
  "nbformat": 4,
  "nbformat_minor": 1,
  "cells": [
    {
      "execution_count": 5,
      "cell_type": "code",
      "metadata": {},
      "source": [
        "import os\nimport shutil\nimport dataiku\n\nfrom dataiku import recipe"
      ],
      "outputs": []
    },
    {
      "execution_count": 6,
      "cell_type": "code",
      "metadata": {},
      "source": [
        "client \u003d dataiku.api_client()\nproject \u003d client.get_default_project()"
      ],
      "outputs": []
    },
    {
      "execution_count": 13,
      "cell_type": "code",
      "metadata": {},
      "source": [
        "# get train dataset\ntrain_dataset \u003d dataiku.Dataset(\"training_data\")\nevaluation_dataset \u003d dataiku.Dataset(\"eval_data\")"
      ],
      "outputs": []
    },
    {
      "execution_count": 15,
      "cell_type": "code",
      "metadata": {},
      "source": [
        "# get output saved model\nsm \u003d project.get_saved_model(\"VdHxdbkg\")\n\n# get train dataset as a pandas dataframe\ndf \u003d train_dataset.get_dataframe()"
      ],
      "outputs": []
    },
    {
      "execution_count": 18,
      "cell_type": "code",
      "metadata": {},
      "source": [
        "# get the path of a local managed folder where to temporarily save the trained model\nmf \u003d dataiku.Folder(\"cTcsiBqc\")\npath \u003d mf.get_path()"
      ],
      "outputs": []
    },
    {
      "execution_count": 19,
      "cell_type": "code",
      "metadata": {},
      "source": [
        "model_subdir \u003d \"my_subdir\"\nmodel_dir \u003d os.path.join(path, model_subdir)"
      ],
      "outputs": []
    },
    {
      "execution_count": 0,
      "cell_type": "code",
      "metadata": {},
      "source": [
        "\u003e\u003e\u003e from sklearn.datasets import load_iris\n\u003e\u003e\u003e from sklearn.linear_model import LogisticRegression\n\u003e\u003e\u003e X, y \u003d load_iris(return_X_y\u003dTrue)\n\u003e\u003e\u003e clf \u003d LogisticRegression(random_state\u003d0).fit(X, y)\n\u003e\u003e\u003e clf.predict(X[:2, :])\narray([0, 0])\n\u003e\u003e\u003e clf.predict_proba(X[:2, :])\narray([[9.8...e-01, 1.8...e-02, 1.4...e-08],\n       [9.7...e-01, 2.8...e-02, ...e-08]])\n\u003e\u003e\u003e clf.score(X, y)\n0.97..."
      ],
      "outputs": []
    },
    {
      "execution_count": 0,
      "cell_type": "code",
      "metadata": {},
      "source": [
        "from sklearn.linear_model import LogisticRegression"
      ],
      "outputs": []
    },
    {
      "execution_count": 0,
      "cell_type": "code",
      "metadata": {},
      "source": [
        "if os.path.exists(model_dir):\n    shutil.rmtree(model_dir)\n\ntry:\n    # ...train your model...\n    \n    \n    # ...save it with package specific MLflow method (here, SKlearn)...\n    mlflow.sklearn.save_model(my_model, model_dir)\n\n    # import the model, creating a new version\n    mlflow_version \u003d sm.import_mlflow_version_from_managed_folder(\"version_name\", \"local_managed_folder\", model_subdir, \"code-env-with-mlflow-name\")\nfinally:\n    shutil.rmtree(model_dir)\n\n# setting metadata (target name, classes,...)\nmlflow_version.set_core_metadata(target_column, [\"class0\", \"class1\",...] , get_features_from_dataset\u003devaluation_dataset.name)\n\n# evaluate the performance of this new version, to populate the performance screens of the saved model version in DSS\nmlflow_version.evaluate(evaluation_dataset.name)"
      ],
      "outputs": []
    },
    {
      "execution_count": 0,
      "cell_type": "code",
      "metadata": {},
      "source": [
        "# -*- coding: utf-8 -*-\nimport dataiku\nimport pandas as pd, numpy as np\nfrom dataiku import pandasutils as pdu\n\n# Read recipe inputs\ntraining_data \u003d dataiku.Dataset(\"training_data\")\ntraining_data_df \u003d training_data.get_dataframe()\n\n\n\n\n# Write recipe outputs\nMLflow_model \u003d dataiku.Folder(\"cTcsiBqc\")\nMLflow_model_info \u003d MLflow_model.get_info()"
      ],
      "outputs": []
    }
  ]
}