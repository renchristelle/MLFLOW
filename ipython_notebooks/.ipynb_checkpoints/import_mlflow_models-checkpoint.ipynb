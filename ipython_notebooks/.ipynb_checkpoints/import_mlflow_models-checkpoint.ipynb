{
  "metadata": {
    "kernelspec": {
      "name": "py-dku-venv-py36_mlflow",
      "display_name": "Python (env py36_mlflow)",
      "language": "python"
    },
    "creator": "admin",
    "createdOn": 1638796031687,
    "tags": [],
    "customFields": {},
    "hide_input": false,
    "language_info": {
      "name": "python",
      "version": "3.6.15",
      "mimetype": "text/x-python",
      "codemirror_mode": {
        "name": "ipython",
        "version": 3
      },
      "pygments_lexer": "ipython3",
      "nbconvert_exporter": "python",
      "file_extension": ".py"
    },
    "modifiedBy": "admin"
  },
  "nbformat": 4,
  "nbformat_minor": 1,
  "cells": [
    {
      "cell_type": "markdown",
      "metadata": {},
      "source": [
        "# Importing mlflow models in DSS\n\nIn this notebook we show through a simple example how to import a machine learning model trained *entirely out of DSS* into a SavedModel in a project\u0027s Flow. We use the [Catboost]() framework to perform a binary classification task on the [UCI Bank dataset]()."
      ]
    },
    {
      "execution_count": 1,
      "cell_type": "code",
      "metadata": {},
      "source": [
        "import dataiku\nimport dataikuapi\nimport os\n\nfrom dataikuapi.dss.ml import DSSPredictionMLTaskSettings"
      ],
      "outputs": [
        {
          "output_type": "stream",
          "text": "/Users/christelleren/DSS/design/code-envs/python/py36_mlflow/lib/python3.6/site-packages/pandas/compat/__init__.py:117: UserWarning: Could not import the lzma module. Your installed Python is incomplete. Attempting to use lzma compression will result in a RuntimeError.\n  warnings.warn(msg)\n",
          "name": "stderr"
        }
      ]
    },
    {
      "cell_type": "markdown",
      "metadata": {},
      "source": [
        "## Step 1: train your model outside of DSS\n\nUsing the archive data and source files provided along with this notebook, perform the following actions *outside of DSS*:\n* Create a virtual environment using Python \u003e\u003d 3.6 and install the packages listed in `requirement.txt`\n* Activate the newly-created virtual environment\n* Go to `src/` and train the model by running `python train_catboost.py`. The resulting model artifact will be stored in the `dist/` directory, its name should be of the form `catboost-uci-bank-xxxxxxxx-xxxxxx`.\n\n\u003e **WARNING**: Any pre-processing step applied to the training data **MUST** also be applied to the evaluation data."
      ]
    },
    {
      "cell_type": "markdown",
      "metadata": {},
      "source": [
        "## Step 2: create the code env in DSS\n\nIn the *Administration \u003e Code envs* section of DSS, crate a new code environment and add the packages listed in the archive\u0027s `requirement.txt` file (minus `pandas`), then build the code-env.\n\n\u003e **This notebook should be running using that code env ! **\n\nWrite down the name of that code env, you will need it to call `import_mlflow_version_from_path()`."
      ]
    },
    {
      "cell_type": "markdown",
      "metadata": {},
      "source": [
        "## Step 3: get a handle on a SavedModel"
      ]
    },
    {
      "execution_count": 2,
      "cell_type": "code",
      "metadata": {},
      "source": [
        "client \u003d dataiku.api_client()\nproject \u003d client.get_default_project()\n\n# Get or create SavedModel\nsm_name \u003d \"catboost-uci-bank\"\nsm_id \u003d None\nfor sm in project.list_saved_models():\n    if sm_name !\u003d sm[\"name\"]:\n        continue\n    else:\n        sm_id \u003d sm[\"id\"]\n        print(\"Found SavedModel {} with id {}\".format(sm_name, sm_id))\n        break\nif sm_id:\n    sm \u003d project.get_saved_model(sm_id)\nelse:\n    sm \u003d project.create_mlflow_pyfunc_model(name\u003dsm_name,\n                                            prediction_type\u003dDSSPredictionMLTaskSettings.PredictionTypes.BINARY)\n    sm_id \u003d sm.id\n    print(\"SavedModel not found, created new one with id {}\".format(sm_id))"
      ],
      "outputs": [
        {
          "output_type": "stream",
          "text": "SavedModel not found, created new one with id VdHxdbkg\n",
          "name": "stdout"
        }
      ]
    },
    {
      "cell_type": "markdown",
      "metadata": {},
      "source": [
        "## Step 4: import the evaluation dataset\n\nCreate a new Dataset in your DSS project by uploading `data/uci-bank-marketing/eval_data.csv`. Call this Dataset `eval_data`.\n\n\u003e **WARNING**: The evaluation Dataset **MUST** already be preprocessed using the exact same steps as in step 1 !"
      ]
    },
    {
      "cell_type": "markdown",
      "metadata": {},
      "source": [
        "## Step 5: Import mlflow model into a SavedModel version"
      ]
    },
    {
      "execution_count": 6,
      "cell_type": "code",
      "metadata": {},
      "source": [
        "# Change the following values to match your setup !\nMLFLOW_DIST_DIR \u003d \"/Users/hrajaona/Projects/repos/tce/demo-mlflow/mlflow-model-import/dist/\"\nCATBOOST_MODEL_DIR \u003d \"catboost-uci-bank-20211206-151341\"\n\nversion_id \u003d \"v01\" # Change this to iterate to a new version\nmodel_dir \u003d os.path.join(MLFLOW_DIST_DIR, CATBOOST_MODEL_DIR)\n\n# Create version in SavedModel\nfor v in sm.list_versions():\n    if v[\"id\"] \u003d\u003d version_id:\n        raise Exception(\"SavedModel version already exists! Choose a new version name.\")\n\nsm_version \u003d sm.import_mlflow_version_from_path(version_id\u003dversion_id,\n                                                path\u003dmodel_dir,\n                                                code_env_name\u003d\"mlflow_catboost\")\n# Evaluate the version using the previously created Dataset\nsm_version.set_core_metadata(target_column_name\u003d\"y\",\n                             class_labels\u003d[\"no\", \"yes\"],\n                             get_features_from_dataset\u003d\"eval_data\")\nsm_version.evaluate(\"eval_data\")"
      ],
      "outputs": []
    },
    {
      "execution_count": 4,
      "cell_type": "code",
      "metadata": {},
      "source": [
        "# Change the following values to match your setup !\nMLFLOW_DIST_DIR \u003d \"/Users/christelleren/DSS/design/jupyter-run/dku-workdirs/DEPLOYERCREDITCARD/MLflow1ca82af5/mlruns/0/\"\nCATBOOST_MODEL_DIR \u003d \"3dab62035e5e439f9503d0c4fde113c8\"\n\nversion_id \u003d \"v01\" # Change this to iterate to a new version\nmodel_dir \u003d os.path.join(MLFLOW_DIST_DIR, CATBOOST_MODEL_DIR)\n\n# Create version in SavedModel\nfor v in sm.list_versions():\n    if v[\"id\"] \u003d\u003d version_id:\n        raise Exception(\"SavedModel version already exists! Choose a new version name.\")\n\nsm_version \u003d sm.import_mlflow_version_from_path(version_id\u003dversion_id,\n                                                path\u003dmodel_dir,\n                                                code_env_name\u003d\"py36_mlflow\")\n# Evaluate the version using the previously created Dataset\nsm_version.set_core_metadata(target_column_name\u003d\"y\",\n                             class_labels\u003d[\"no\", \"yes\"],\n                             get_features_from_dataset\u003d\"eval_data\")\nsm_version.evaluate(\"eval_data\")"
      ],
      "outputs": [
        {
          "output_type": "error",
          "ename": "DataikuException",
          "evalue": "com.dataiku.dip.io.SocketBlockLinkKernelException: Could not run command READ_META: : \u003cclass \u0027FileNotFoundError\u0027\u003e : [Errno 2] No such file or directory: \u0027/Users/christelleren/DSS/design/saved_models/MLFLOW/VdHxdbkg/versions/v01/MLmodel\u0027",
          "traceback": [
            "\u001b[0;31m---------------------------------------------------------------------------\u001b[0m",
            "\u001b[0;31mHTTPError\u001b[0m                                 Traceback (most recent call last)",
            "\u001b[0;32m~/DSS/dataiku-dss-11.0.0-osx/python/dataikuapi/dssclient.py\u001b[0m in \u001b[0;36m_perform_http\u001b[0;34m(self, method, path, params, body, stream, files, raw_body, headers)\u001b[0m\n\u001b[1;32m   1233\u001b[0m                     headers\u003dheaders)\n\u001b[0;32m-\u003e 1234\u001b[0;31m             \u001b[0mhttp_res\u001b[0m\u001b[0;34m.\u001b[0m\u001b[0mraise_for_status\u001b[0m\u001b[0;34m(\u001b[0m\u001b[0;34m)\u001b[0m\u001b[0;34m\u001b[0m\u001b[0;34m\u001b[0m\u001b[0m\n\u001b[0m\u001b[1;32m   1235\u001b[0m             \u001b[0;32mreturn\u001b[0m \u001b[0mhttp_res\u001b[0m\u001b[0;34m\u001b[0m\u001b[0;34m\u001b[0m\u001b[0m\n",
            "\u001b[0;32m~/DSS/design/code-envs/python/py36_mlflow/lib/python3.6/site-packages/requests/models.py\u001b[0m in \u001b[0;36mraise_for_status\u001b[0;34m(self)\u001b[0m\n\u001b[1;32m    959\u001b[0m         \u001b[0;32mif\u001b[0m \u001b[0mhttp_error_msg\u001b[0m\u001b[0;34m:\u001b[0m\u001b[0;34m\u001b[0m\u001b[0;34m\u001b[0m\u001b[0m\n\u001b[0;32m--\u003e 960\u001b[0;31m             \u001b[0;32mraise\u001b[0m \u001b[0mHTTPError\u001b[0m\u001b[0;34m(\u001b[0m\u001b[0mhttp_error_msg\u001b[0m\u001b[0;34m,\u001b[0m \u001b[0mresponse\u001b[0m\u001b[0;34m\u003d\u001b[0m\u001b[0mself\u001b[0m\u001b[0;34m)\u001b[0m\u001b[0;34m\u001b[0m\u001b[0;34m\u001b[0m\u001b[0m\n\u001b[0m\u001b[1;32m    961\u001b[0m \u001b[0;34m\u001b[0m\u001b[0m\n",
            "\u001b[0;31mHTTPError\u001b[0m: 500 Server Error: Server Error for url: http://127.0.0.1:11401/dip/publicapi/projects/MLFLOW/savedmodels/VdHxdbkg/versions/v01?codeEnvName\u003dpy36_mlflow\u0026containerExecConfigName\u003dINHERIT",
            "\nDuring handling of the above exception, another exception occurred:\n",
            "\u001b[0;31mDataikuException\u001b[0m                          Traceback (most recent call last)",
            "\u001b[0;32m\u003cipython-input-4-36ed633f38f2\u003e\u001b[0m in \u001b[0;36m\u003cmodule\u003e\u001b[0;34m\u001b[0m\n\u001b[1;32m     13\u001b[0m sm_version \u003d sm.import_mlflow_version_from_path(version_id\u003dversion_id,\n\u001b[1;32m     14\u001b[0m                                                 \u001b[0mpath\u001b[0m\u001b[0;34m\u003d\u001b[0m\u001b[0mmodel_dir\u001b[0m\u001b[0;34m,\u001b[0m\u001b[0;34m\u001b[0m\u001b[0;34m\u001b[0m\u001b[0m\n\u001b[0;32m---\u003e 15\u001b[0;31m                                                 code_env_name\u003d\"py36_mlflow\")\n\u001b[0m\u001b[1;32m     16\u001b[0m \u001b[0;31m# Evaluate the version using the previously created Dataset\u001b[0m\u001b[0;34m\u001b[0m\u001b[0;34m\u001b[0m\u001b[0;34m\u001b[0m\u001b[0m\n\u001b[1;32m     17\u001b[0m sm_version.set_core_metadata(target_column_name\u003d\"y\",\n",
            "\u001b[0;32m~/DSS/dataiku-dss-11.0.0-osx/python/dataikuapi/dss/savedmodel.py\u001b[0m in \u001b[0;36mimport_mlflow_version_from_path\u001b[0;34m(self, version_id, path, code_env_name, container_exec_config_name)\u001b[0m\n\u001b[1;32m    150\u001b[0m             \u001b[0;32mwith\u001b[0m \u001b[0mopen\u001b[0m\u001b[0;34m(\u001b[0m\u001b[0marchive_filename\u001b[0m\u001b[0;34m,\u001b[0m \u001b[0;34m\"rb\"\u001b[0m\u001b[0;34m)\u001b[0m \u001b[0;32mas\u001b[0m \u001b[0mfp\u001b[0m\u001b[0;34m:\u001b[0m\u001b[0;34m\u001b[0m\u001b[0;34m\u001b[0m\u001b[0m\n\u001b[1;32m    151\u001b[0m                 self.client._perform_empty(\"POST\", \"/projects/%s/savedmodels/%s/versions/%s?codeEnvName\u003d%s\u0026containerExecConfigName\u003d%s\" % (self.project_key, self.sm_id, version_id, code_env_name, container_exec_config_name),\n\u001b[0;32m--\u003e 152\u001b[0;31m                                            files\u003d{\"file\": (archive_filename, fp)})\n\u001b[0m\u001b[1;32m    153\u001b[0m             \u001b[0;32mreturn\u001b[0m \u001b[0mself\u001b[0m\u001b[0;34m.\u001b[0m\u001b[0mget_mlflow_version_handler\u001b[0m\u001b[0;34m(\u001b[0m\u001b[0mversion_id\u001b[0m\u001b[0;34m)\u001b[0m\u001b[0;34m\u001b[0m\u001b[0;34m\u001b[0m\u001b[0m\n\u001b[1;32m    154\u001b[0m         \u001b[0;32mfinally\u001b[0m\u001b[0;34m:\u001b[0m\u001b[0;34m\u001b[0m\u001b[0;34m\u001b[0m\u001b[0m\n",
            "\u001b[0;32m~/DSS/dataiku-dss-11.0.0-osx/python/dataikuapi/dssclient.py\u001b[0m in \u001b[0;36m_perform_empty\u001b[0;34m(self, method, path, params, body, files, raw_body)\u001b[0m\n\u001b[1;32m   1242\u001b[0m \u001b[0;34m\u001b[0m\u001b[0m\n\u001b[1;32m   1243\u001b[0m     \u001b[0;32mdef\u001b[0m \u001b[0m_perform_empty\u001b[0m\u001b[0;34m(\u001b[0m\u001b[0mself\u001b[0m\u001b[0;34m,\u001b[0m \u001b[0mmethod\u001b[0m\u001b[0;34m,\u001b[0m \u001b[0mpath\u001b[0m\u001b[0;34m,\u001b[0m \u001b[0mparams\u001b[0m\u001b[0;34m\u003d\u001b[0m\u001b[0;32mNone\u001b[0m\u001b[0;34m,\u001b[0m \u001b[0mbody\u001b[0m\u001b[0;34m\u003d\u001b[0m\u001b[0;32mNone\u001b[0m\u001b[0;34m,\u001b[0m \u001b[0mfiles\u001b[0m \u001b[0;34m\u003d\u001b[0m \u001b[0;32mNone\u001b[0m\u001b[0;34m,\u001b[0m \u001b[0mraw_body\u001b[0m\u001b[0;34m\u003d\u001b[0m\u001b[0;32mNone\u001b[0m\u001b[0;34m)\u001b[0m\u001b[0;34m:\u001b[0m\u001b[0;34m\u001b[0m\u001b[0;34m\u001b[0m\u001b[0m\n\u001b[0;32m-\u003e 1244\u001b[0;31m         \u001b[0mself\u001b[0m\u001b[0;34m.\u001b[0m\u001b[0m_perform_http\u001b[0m\u001b[0;34m(\u001b[0m\u001b[0mmethod\u001b[0m\u001b[0;34m,\u001b[0m \u001b[0mpath\u001b[0m\u001b[0;34m,\u001b[0m \u001b[0mparams\u001b[0m\u001b[0;34m\u003d\u001b[0m\u001b[0mparams\u001b[0m\u001b[0;34m,\u001b[0m \u001b[0mbody\u001b[0m\u001b[0;34m\u003d\u001b[0m\u001b[0mbody\u001b[0m\u001b[0;34m,\u001b[0m \u001b[0mfiles\u001b[0m\u001b[0;34m\u003d\u001b[0m\u001b[0mfiles\u001b[0m\u001b[0;34m,\u001b[0m \u001b[0mstream\u001b[0m\u001b[0;34m\u003d\u001b[0m\u001b[0;32mFalse\u001b[0m\u001b[0;34m,\u001b[0m \u001b[0mraw_body\u001b[0m\u001b[0;34m\u003d\u001b[0m\u001b[0mraw_body\u001b[0m\u001b[0;34m)\u001b[0m\u001b[0;34m\u001b[0m\u001b[0;34m\u001b[0m\u001b[0m\n\u001b[0m\u001b[1;32m   1245\u001b[0m \u001b[0;34m\u001b[0m\u001b[0m\n\u001b[1;32m   1246\u001b[0m     \u001b[0;32mdef\u001b[0m \u001b[0m_perform_text\u001b[0m\u001b[0;34m(\u001b[0m\u001b[0mself\u001b[0m\u001b[0;34m,\u001b[0m \u001b[0mmethod\u001b[0m\u001b[0;34m,\u001b[0m \u001b[0mpath\u001b[0m\u001b[0;34m,\u001b[0m \u001b[0mparams\u001b[0m\u001b[0;34m\u003d\u001b[0m\u001b[0;32mNone\u001b[0m\u001b[0;34m,\u001b[0m \u001b[0mbody\u001b[0m\u001b[0;34m\u003d\u001b[0m\u001b[0;32mNone\u001b[0m\u001b[0;34m,\u001b[0m\u001b[0mfiles\u001b[0m\u001b[0;34m\u003d\u001b[0m\u001b[0;32mNone\u001b[0m\u001b[0;34m,\u001b[0m \u001b[0mraw_body\u001b[0m\u001b[0;34m\u003d\u001b[0m\u001b[0;32mNone\u001b[0m\u001b[0;34m)\u001b[0m\u001b[0;34m:\u001b[0m\u001b[0;34m\u001b[0m\u001b[0;34m\u001b[0m\u001b[0m\n",
            "\u001b[0;32m~/DSS/dataiku-dss-11.0.0-osx/python/dataikuapi/dssclient.py\u001b[0m in \u001b[0;36m_perform_http\u001b[0;34m(self, method, path, params, body, stream, files, raw_body, headers)\u001b[0m\n\u001b[1;32m   1239\u001b[0m             \u001b[0;32mexcept\u001b[0m \u001b[0mValueError\u001b[0m\u001b[0;34m:\u001b[0m\u001b[0;34m\u001b[0m\u001b[0;34m\u001b[0m\u001b[0m\n\u001b[1;32m   1240\u001b[0m                 \u001b[0mex\u001b[0m \u001b[0;34m\u003d\u001b[0m \u001b[0;34m{\u001b[0m\u001b[0;34m\"message\"\u001b[0m\u001b[0;34m:\u001b[0m \u001b[0mhttp_res\u001b[0m\u001b[0;34m.\u001b[0m\u001b[0mtext\u001b[0m\u001b[0;34m}\u001b[0m\u001b[0;34m\u001b[0m\u001b[0;34m\u001b[0m\u001b[0m\n\u001b[0;32m-\u003e 1241\u001b[0;31m             \u001b[0;32mraise\u001b[0m \u001b[0mDataikuException\u001b[0m\u001b[0;34m(\u001b[0m\u001b[0;34m\"%s: %s\"\u001b[0m \u001b[0;34m%\u001b[0m \u001b[0;34m(\u001b[0m\u001b[0mex\u001b[0m\u001b[0;34m.\u001b[0m\u001b[0mget\u001b[0m\u001b[0;34m(\u001b[0m\u001b[0;34m\"errorType\"\u001b[0m\u001b[0;34m,\u001b[0m \u001b[0;34m\"Unknown error\"\u001b[0m\u001b[0;34m)\u001b[0m\u001b[0;34m,\u001b[0m \u001b[0mex\u001b[0m\u001b[0;34m.\u001b[0m\u001b[0mget\u001b[0m\u001b[0;34m(\u001b[0m\u001b[0;34m\"message\"\u001b[0m\u001b[0;34m,\u001b[0m \u001b[0;34m\"No message\"\u001b[0m\u001b[0;34m)\u001b[0m\u001b[0;34m)\u001b[0m\u001b[0;34m)\u001b[0m\u001b[0;34m\u001b[0m\u001b[0;34m\u001b[0m\u001b[0m\n\u001b[0m\u001b[1;32m   1242\u001b[0m \u001b[0;34m\u001b[0m\u001b[0m\n\u001b[1;32m   1243\u001b[0m     \u001b[0;32mdef\u001b[0m \u001b[0m_perform_empty\u001b[0m\u001b[0;34m(\u001b[0m\u001b[0mself\u001b[0m\u001b[0;34m,\u001b[0m \u001b[0mmethod\u001b[0m\u001b[0;34m,\u001b[0m \u001b[0mpath\u001b[0m\u001b[0;34m,\u001b[0m \u001b[0mparams\u001b[0m\u001b[0;34m\u003d\u001b[0m\u001b[0;32mNone\u001b[0m\u001b[0;34m,\u001b[0m \u001b[0mbody\u001b[0m\u001b[0;34m\u003d\u001b[0m\u001b[0;32mNone\u001b[0m\u001b[0;34m,\u001b[0m \u001b[0mfiles\u001b[0m \u001b[0;34m\u003d\u001b[0m \u001b[0;32mNone\u001b[0m\u001b[0;34m,\u001b[0m \u001b[0mraw_body\u001b[0m\u001b[0;34m\u003d\u001b[0m\u001b[0;32mNone\u001b[0m\u001b[0;34m)\u001b[0m\u001b[0;34m:\u001b[0m\u001b[0;34m\u001b[0m\u001b[0;34m\u001b[0m\u001b[0m\n",
            "\u001b[0;31mDataikuException\u001b[0m: com.dataiku.dip.io.SocketBlockLinkKernelException: Could not run command READ_META: : \u003cclass \u0027FileNotFoundError\u0027\u003e : [Errno 2] No such file or directory: \u0027/Users/christelleren/DSS/design/saved_models/MLFLOW/VdHxdbkg/versions/v01/MLmodel\u0027"
          ]
        }
      ]
    },
    {
      "cell_type": "markdown",
      "metadata": {},
      "source": [
        "If you go to the SavedModel\u0027s version screen, you should now be able to see properly all the \"Performance\" visualizations."
      ]
    }
  ]
}