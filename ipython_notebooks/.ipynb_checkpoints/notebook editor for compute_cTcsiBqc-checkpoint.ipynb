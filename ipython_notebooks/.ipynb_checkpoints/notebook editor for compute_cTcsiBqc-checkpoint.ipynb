{
  "nbformat": 4,
  "nbformat_minor": 0,
  "metadata": {
    "kernelspec": {
      "display_name": "Python 3",
      "language": "python",
      "name": "python3"
    },
    "associatedRecipe": "compute_cTcsiBqc",
    "creator": "admin",
    "createdOn": 1658215676124,
    "tags": [
      "recipe-editor"
    ],
    "customFields": {}
  },
  "cells": [
    {
      "cell_type": "code",
      "metadata": {},
      "outputs": [],
      "execution_count": 0,
      "source": [
        "# -*- coding: utf-8 -*-\n",
        "import dataiku\n",
        "import pandas as pd, numpy as np\n",
        "from dataiku import pandasutils as pdu\n",
        "\n",
        "# Read recipe inputs\n",
        "training_data \u003d dataiku.Dataset(\"training_data\")\n",
        "training_data_df \u003d training_data.get_dataframe()\n",
        "\n",
        "\n",
        "\n",
        "\n",
        "# Write recipe outputs\n",
        "MLflow_model \u003d dataiku.Folder(\"cTcsiBqc\")\n",
        "MLflow_model_info \u003d MLflow_model.get_info()"
      ]
    }
  ]
}