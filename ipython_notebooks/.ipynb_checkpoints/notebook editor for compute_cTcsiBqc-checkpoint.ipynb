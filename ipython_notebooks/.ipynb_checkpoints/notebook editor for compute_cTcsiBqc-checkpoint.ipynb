{
  "nbformat": 4,
  "nbformat_minor": 0,
  "metadata": {
    "kernelspec": {
      "display_name": "Python (env py36_mlflow)",
      "language": "python",
      "name": "py-dku-venv-py36_mlflow"
    },
    "associatedRecipe": "compute_cTcsiBqc",
    "dkuGit": {
      "lastInteraction": 0
    },
    "creationTag": {
      "versionNumber": 0,
      "lastModifiedBy": {
        "login": "admin"
      },
      "lastModifiedOn": 1658215676124
    },
    "creator": "admin",
    "createdOn": 1658215676124,
    "tags": [
      "recipe-editor"
    ],
    "customFields": {}
  },
  "cells": [
    {
      "cell_type": "code",
      "metadata": {},
      "outputs": [],
      "execution_count": 0,
      "source": [
        "import os\n",
        "import shutil\n",
        "import dataiku\n",
        "\n",
        "from dataiku import recipe"
      ]
    },
    {
      "cell_type": "code",
      "metadata": {},
      "outputs": [],
      "execution_count": 0,
      "source": [
        "client \u003d dataiku.api_client()\n",
        "project \u003d client.get_default_project()"
      ]
    },
    {
      "cell_type": "code",
      "metadata": {},
      "outputs": [],
      "execution_count": 0,
      "source": [
        "# get train dataset\n",
        "train_dataset \u003d recipe.get_inputs_as_datasets()[0]\n",
        "evaluation_dataset \u003d recipe.get_inputs_as_datasets()[1]"
      ]
    },
    {
      "cell_type": "code",
      "metadata": {},
      "outputs": [],
      "execution_count": 0,
      "source": [
        "# get output saved model\n",
        "sm \u003d project.get_saved_model(recipe.get_output_names()[0])\n",
        "\n",
        "# get train dataset as a pandas dataframe\n",
        "df \u003d train_dataset.get_dataframe()\n",
        "\n",
        "# get the path of a local managed folder where to temporarily save the trained model\n",
        "mf \u003d dataiku.Folder(\"local_managed_folder\")\n",
        "path \u003d mf.get_path()\n",
        "\n",
        "model_subdir \u003d \"my_subdir\"\n",
        "model_dir \u003d os.path.join(path, model_subdir)\n",
        "\n",
        "if os.path.exists(model_dir):\n",
        "    shutil.rmtree(model_dir)\n",
        "\n",
        "try:\n",
        "    # ...train your model...\n",
        "\n",
        "    # ...save it with package specific MLflow method (here, SKlearn)...\n",
        "    mlflow.sklearn.save_model(my_model, model_dir)\n",
        "\n",
        "    # import the model, creating a new version\n",
        "    mlflow_version \u003d sm.import_mlflow_version_from_managed_folder(\"version_name\", \"local_managed_folder\", model_subdir, \"code-env-with-mlflow-name\")\n",
        "finally:\n",
        "    shutil.rmtree(model_dir)\n",
        "\n",
        "# setting metadata (target name, classes,...)\n",
        "mlflow_version.set_core_metadata(target_column, [\"class0\", \"class1\",...] , get_features_from_dataset\u003devaluation_dataset.name)\n",
        "\n",
        "# evaluate the performance of this new version, to populate the performance screens of the saved model version in DSS\n",
        "mlflow_version.evaluate(evaluation_dataset.name)"
      ]
    },
    {
      "cell_type": "code",
      "metadata": {},
      "outputs": [],
      "execution_count": 0,
      "source": [
        "# -*- coding: utf-8 -*-\n",
        "import dataiku\n",
        "import pandas as pd, numpy as np\n",
        "from dataiku import pandasutils as pdu\n",
        "\n",
        "# Read recipe inputs\n",
        "training_data \u003d dataiku.Dataset(\"training_data\")\n",
        "training_data_df \u003d training_data.get_dataframe()\n",
        "\n",
        "\n",
        "\n",
        "\n",
        "# Write recipe outputs\n",
        "MLflow_model \u003d dataiku.Folder(\"cTcsiBqc\")\n",
        "MLflow_model_info \u003d MLflow_model.get_info()"
      ]
    }
  ]
}