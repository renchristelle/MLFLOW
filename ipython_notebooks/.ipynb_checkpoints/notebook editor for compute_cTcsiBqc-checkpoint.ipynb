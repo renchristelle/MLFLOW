{
  "metadata": {
    "kernelspec": {
      "name": "py-dku-venv-py36_mlflow",
      "display_name": "Python (env py36_mlflow)",
      "language": "python"
    },
    "associatedRecipe": "compute_cTcsiBqc",
    "dkuGit": {
      "lastInteraction": 0
    },
    "creationTag": {
      "versionNumber": 0,
      "lastModifiedBy": {
        "login": "admin"
      },
      "lastModifiedOn": 1658215676124
    },
    "creator": "admin",
    "createdOn": 1658215676124,
    "tags": [
      "recipe-editor"
    ],
    "customFields": {},
    "hide_input": false,
    "language_info": {
      "name": "python",
      "version": "3.6.15",
      "mimetype": "text/x-python",
      "codemirror_mode": {
        "name": "ipython",
        "version": 3
      },
      "pygments_lexer": "ipython3",
      "nbconvert_exporter": "python",
      "file_extension": ".py"
    },
    "modifiedBy": "admin"
  },
  "nbformat": 4,
  "nbformat_minor": 1,
  "cells": [
    {
      "execution_count": 5,
      "cell_type": "code",
      "metadata": {},
      "source": [
        "import os\nimport shutil\nimport dataiku\n\nfrom dataiku import recipe"
      ],
      "outputs": []
    },
    {
      "execution_count": 6,
      "cell_type": "code",
      "metadata": {},
      "source": [
        "client \u003d dataiku.api_client()\nproject \u003d client.get_default_project()"
      ],
      "outputs": []
    },
    {
      "execution_count": 11,
      "cell_type": "code",
      "metadata": {},
      "source": [
        "# get train dataset\ntrain_dataset \u003d \"training_data\"\nevaluation_dataset \u003d \"eval_data\""
      ],
      "outputs": []
    },
    {
      "execution_count": 0,
      "cell_type": "code",
      "metadata": {},
      "source": [
        "# get output saved model\nsm \u003d project.get_saved_model()\n\n# get train dataset as a pandas dataframe\ndf \u003d train_dataset.get_dataframe()"
      ],
      "outputs": []
    },
    {
      "execution_count": 0,
      "cell_type": "code",
      "metadata": {},
      "source": [
        "# get the path of a local managed folder where to temporarily save the trained model\nmf \u003d dataiku.Folder(\"local_managed_folder\")\npath \u003d mf.get_path()\n\nmodel_subdir \u003d \"my_subdir\"\nmodel_dir \u003d os.path.join(path, model_subdir)\n\nif os.path.exists(model_dir):\n    shutil.rmtree(model_dir)\n\ntry:\n    # ...train your model...\n\n    # ...save it with package specific MLflow method (here, SKlearn)...\n    mlflow.sklearn.save_model(my_model, model_dir)\n\n    # import the model, creating a new version\n    mlflow_version \u003d sm.import_mlflow_version_from_managed_folder(\"version_name\", \"local_managed_folder\", model_subdir, \"code-env-with-mlflow-name\")\nfinally:\n    shutil.rmtree(model_dir)\n\n# setting metadata (target name, classes,...)\nmlflow_version.set_core_metadata(target_column, [\"class0\", \"class1\",...] , get_features_from_dataset\u003devaluation_dataset.name)\n\n# evaluate the performance of this new version, to populate the performance screens of the saved model version in DSS\nmlflow_version.evaluate(evaluation_dataset.name)"
      ],
      "outputs": []
    },
    {
      "execution_count": 0,
      "cell_type": "code",
      "metadata": {},
      "source": [
        "# -*- coding: utf-8 -*-\nimport dataiku\nimport pandas as pd, numpy as np\nfrom dataiku import pandasutils as pdu\n\n# Read recipe inputs\ntraining_data \u003d dataiku.Dataset(\"training_data\")\ntraining_data_df \u003d training_data.get_dataframe()\n\n\n\n\n# Write recipe outputs\nMLflow_model \u003d dataiku.Folder(\"cTcsiBqc\")\nMLflow_model_info \u003d MLflow_model.get_info()"
      ],
      "outputs": []
    }
  ]
}