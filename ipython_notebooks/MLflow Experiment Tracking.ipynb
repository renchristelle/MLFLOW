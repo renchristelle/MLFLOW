{
  "metadata": {
    "kernelspec": {
      "name": "py-dku-venv-py36_mlflow",
      "display_name": "Python (env py36_mlflow)",
      "language": "python"
    },
    "creator": "admin",
    "createdOn": 1658303959370,
    "tags": [],
    "customFields": {},
    "hide_input": false,
    "language_info": {
      "name": "python",
      "version": "3.6.15",
      "mimetype": "text/x-python",
      "codemirror_mode": {
        "name": "ipython",
        "version": 3
      },
      "pygments_lexer": "ipython3",
      "nbconvert_exporter": "python",
      "file_extension": ".py"
    },
    "modifiedBy": "admin"
  },
  "nbformat": 4,
  "nbformat_minor": 1,
  "cells": [
    {
      "execution_count": 1,
      "cell_type": "code",
      "metadata": {},
      "source": [
        "%pylab inline"
      ],
      "outputs": [
        {
          "output_type": "stream",
          "text": "Populating the interactive namespace from numpy and matplotlib\n",
          "name": "stdout"
        }
      ]
    },
    {
      "execution_count": 26,
      "cell_type": "code",
      "metadata": {},
      "source": [
        "import dataiku\nfrom dataiku import pandasutils as pdu\nimport pandas as pd\nimport mlflow\nfrom dss_mlflow import preprocessing\nfrom sklearn.linear_model import ElasticNet\nfrom sklearn.linear_model import LogisticRegression"
      ],
      "outputs": []
    },
    {
      "execution_count": 5,
      "cell_type": "code",
      "metadata": {},
      "source": [
        "project \u003d dataiku.api_client().get_default_project()\n\n#managed folder to store artefact\nmanaged_folder \u003d project.get_managed_folder(\u00278ip4v4B7\u0027)"
      ],
      "outputs": []
    },
    {
      "execution_count": 6,
      "cell_type": "code",
      "metadata": {},
      "source": [
        "# Read recipe inputs\ntrain_dataset \u003d dataiku.Dataset(\"training_data\")\ndf \u003d train_dataset.get_dataframe()"
      ],
      "outputs": []
    },
    {
      "execution_count": 9,
      "cell_type": "code",
      "metadata": {},
      "source": [
        "import numpy as np\nfrom sklearn.metrics import mean_squared_error, mean_absolute_error, r2_score\n\ndef eval_metrics(actual, pred):\n    rmse \u003d np.sqrt(mean_squared_error(actual, pred))\n    mae \u003d mean_absolute_error(actual, pred)\n    r2 \u003d r2_score(actual, pred)\n    return rmse, mae, r2"
      ],
      "outputs": []
    },
    {
      "execution_count": 10,
      "cell_type": "code",
      "metadata": {},
      "source": [
        "X, y \u003d preprocessing.clean_df(df)"
      ],
      "outputs": []
    },
    {
      "execution_count": 28,
      "cell_type": "code",
      "metadata": {
        "code_folding": []
      },
      "source": [
        "## ElasticNet\n\nalpha \u003d 0.5\nl1_ratio \u003d 0.5\n\nwith project.setup_mlflow(managed_folder\u003dmanaged_folder) as mlflow:\n\n    # Note: if you don\u0027t call this (i.e. when no experiment is specified), the default one is used\n    mlflow.set_experiment(\"ElasticNet\")\n    \n    #MLflow Tracking autologging (automatically logs metrics, parameters, and models without explicit log statements)\n    mlflow.sklearn.autolog()\n\n    with mlflow.start_run(run_name\u003d\"v2\"):\n        lr \u003d ElasticNet(alpha\u003dalpha, l1_ratio\u003dl1_ratio, random_state\u003d42)\n        lr.fit(X, y)\n\n\n        #(rmse, mae, r2) \u003d eval_metrics(y, predicted_qualities)\n\n        #mlflow.log_param(\"alpha\", alpha)\n        #lflow.log_param(\"l1_ratio\", l1_ratio)\n        #mlflow.log_metric(\"rmse\", rmse)\n        #mlflow.log_metric(\"r2\", r2)\n        #mlflow.log_metric(\"mae\", mae)\n        #mlflow.log_param(\"a\", 1)\n        #mlflow.log_metric(\"b\", 2)\n        #mlflow.sklearn.log_model(lr, \"model\")"
      ],
      "outputs": [
        {
          "output_type": "stream",
          "text": "2022/07/21 11:39:30 WARNING mlflow.utils.autologging_utils: MLflow autologging encountered a warning: \"/Users/christelleren/DSS/design/code-envs/python/py36_mlflow/lib/python3.6/site-packages/mlflow/types/utils.py:148: DeprecationWarning: ``mlflow.types.schema.column_types`` is deprecated since 1.14. This method will be removed in a near future release. Use ``mlflow.types.Schema.input_types`` instead.\"\n2022/07/21 11:39:30 WARNING mlflow.utils.autologging_utils: MLflow autologging encountered a warning: \"/Users/christelleren/DSS/design/code-envs/python/py36_mlflow/lib/python3.6/site-packages/mlflow/types/schema.py:361: DeprecationWarning: ``mlflow.types.schema.columns`` is deprecated since 1.14. This method will be removed in a near future release. Use ``mlflow.types.Schema.inputs`` instead.\"\n2022/07/21 11:39:31 WARNING mlflow.utils.autologging_utils: MLflow autologging encountered a warning: \"/Users/christelleren/DSS/design/code-envs/python/py36_mlflow/lib/python3.6/site-packages/mlflow/models/signature.py:129: UserWarning: Hint: Inferred schema contains integer column(s). Integer columns in Python cannot represent missing values. If your input data contains missing values at inference time, it will be encoded as floats and will cause a schema enforcement error. The best way to avoid this problem is to infer the model schema based on a realistic data sample (training dataset) that includes missing values. Alternatively, you can declare integer columns as doubles (float64) whenever these columns may have missing values. See `Handling Integers With Missing Values \u003chttps://www.mlflow.org/docs/latest/models.html#handling-integers-with-missing-values\u003e`_ for more details.\"\n",
          "name": "stderr"
        }
      ]
    },
    {
      "execution_count": 29,
      "cell_type": "code",
      "metadata": {},
      "source": [
        "## LogisticRegression\nC \u003d 0.5\n\nwith project.setup_mlflow(managed_folder\u003dmanaged_folder) as mlflow:\n\n    # Note: if you don\u0027t call this (i.e. when no experiment is specified), the default one is used\n    mlflow.set_experiment(\"LogisticRegression\")\n    \n    #MLflow Tracking autologging (automatically logs metrics, parameters, and models without explicit log statements)\n    mlflow.sklearn.autolog()\n\n    with mlflow.start_run(run_name\u003d\"v2\"):\n        lr \u003d LogisticRegression(C\u003dC, random_state\u003d0).fit(X, y)\n        lr.fit(X, y)"
      ],
      "outputs": [
        {
          "output_type": "stream",
          "text": "/Users/christelleren/DSS/design/code-envs/python/py36_mlflow/lib/python3.6/site-packages/sklearn/linear_model/logistic.py:433: FutureWarning: Default solver will be changed to \u0027lbfgs\u0027 in 0.22. Specify a solver to silence this warning.\n  FutureWarning)\n2022/07/21 11:44:50 WARNING mlflow.utils.autologging_utils: MLflow autologging encountered a warning: \"/Users/christelleren/DSS/design/code-envs/python/py36_mlflow/lib/python3.6/site-packages/mlflow/types/utils.py:148: DeprecationWarning: ``mlflow.types.schema.column_types`` is deprecated since 1.14. This method will be removed in a near future release. Use ``mlflow.types.Schema.input_types`` instead.\"\n2022/07/21 11:44:50 WARNING mlflow.utils.autologging_utils: MLflow autologging encountered a warning: \"/Users/christelleren/DSS/design/code-envs/python/py36_mlflow/lib/python3.6/site-packages/mlflow/types/schema.py:361: DeprecationWarning: ``mlflow.types.schema.columns`` is deprecated since 1.14. This method will be removed in a near future release. Use ``mlflow.types.Schema.inputs`` instead.\"\n2022/07/21 11:44:50 WARNING mlflow.utils.autologging_utils: MLflow autologging encountered a warning: \"/Users/christelleren/DSS/design/code-envs/python/py36_mlflow/lib/python3.6/site-packages/mlflow/models/signature.py:129: UserWarning: Hint: Inferred schema contains integer column(s). Integer columns in Python cannot represent missing values. If your input data contains missing values at inference time, it will be encoded as floats and will cause a schema enforcement error. The best way to avoid this problem is to infer the model schema based on a realistic data sample (training dataset) that includes missing values. Alternatively, you can declare integer columns as doubles (float64) whenever these columns may have missing values. See `Handling Integers With Missing Values \u003chttps://www.mlflow.org/docs/latest/models.html#handling-integers-with-missing-values\u003e`_ for more details.\"\n/Users/christelleren/DSS/design/code-envs/python/py36_mlflow/lib/python3.6/site-packages/sklearn/linear_model/logistic.py:433: FutureWarning: Default solver will be changed to \u0027lbfgs\u0027 in 0.22. Specify a solver to silence this warning.\n  FutureWarning)\n2022/07/21 11:44:54 WARNING mlflow.utils.autologging_utils: MLflow autologging encountered a warning: \"/Users/christelleren/DSS/design/code-envs/python/py36_mlflow/lib/python3.6/site-packages/mlflow/types/utils.py:148: DeprecationWarning: ``mlflow.types.schema.column_types`` is deprecated since 1.14. This method will be removed in a near future release. Use ``mlflow.types.Schema.input_types`` instead.\"\n2022/07/21 11:44:54 WARNING mlflow.utils.autologging_utils: MLflow autologging encountered a warning: \"/Users/christelleren/DSS/design/code-envs/python/py36_mlflow/lib/python3.6/site-packages/mlflow/types/schema.py:361: DeprecationWarning: ``mlflow.types.schema.columns`` is deprecated since 1.14. This method will be removed in a near future release. Use ``mlflow.types.Schema.inputs`` instead.\"\n2022/07/21 11:44:54 WARNING mlflow.utils.autologging_utils: MLflow autologging encountered a warning: \"/Users/christelleren/DSS/design/code-envs/python/py36_mlflow/lib/python3.6/site-packages/mlflow/models/signature.py:129: UserWarning: Hint: Inferred schema contains integer column(s). Integer columns in Python cannot represent missing values. If your input data contains missing values at inference time, it will be encoded as floats and will cause a schema enforcement error. The best way to avoid this problem is to infer the model schema based on a realistic data sample (training dataset) that includes missing values. Alternatively, you can declare integer columns as doubles (float64) whenever these columns may have missing values. See `Handling Integers With Missing Values \u003chttps://www.mlflow.org/docs/latest/models.html#handling-integers-with-missing-values\u003e`_ for more details.\"\n2022/07/21 11:44:58 WARNING mlflow.utils.autologging_utils: Encountered unexpected error during sklearn autologging: The following failures occurred while performing one or more logging operations: [MlflowException(\u0027Failed to perform one or more operations on the run with ID v2_eu6. Failed operations: [RestException(\"INTERNAL_ERROR: Changing param values is not allowed. Param with key\u003d\\\u0027C was already logged with value\u003d\\\u00270.5\\\u0027 for run ID\u003d\\\u0027v2_eu6\\\u0027. Attempted logging new value \\\u00270.5\\\u0027.\",)]\u0027,)]\n",
          "name": "stderr"
        }
      ]
    },
    {
      "execution_count": 0,
      "cell_type": "code",
      "metadata": {},
      "source": [
        ""
      ],
      "outputs": []
    }
  ]
}