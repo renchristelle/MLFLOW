{
  "metadata": {
    "kernelspec": {
      "name": "py-dku-venv-py36_mlflow",
      "display_name": "Python (env py36_mlflow)",
      "language": "python"
    },
    "creator": "admin",
    "createdOn": 1658303959370,
    "tags": [],
    "customFields": {},
    "hide_input": false,
    "language_info": {
      "name": "python",
      "version": "3.6.15",
      "mimetype": "text/x-python",
      "codemirror_mode": {
        "name": "ipython",
        "version": 3
      },
      "pygments_lexer": "ipython3",
      "nbconvert_exporter": "python",
      "file_extension": ".py"
    },
    "modifiedBy": "admin"
  },
  "nbformat": 4,
  "nbformat_minor": 1,
  "cells": [
    {
      "execution_count": 1,
      "cell_type": "code",
      "metadata": {},
      "source": [
        "%pylab inline"
      ],
      "outputs": [
        {
          "output_type": "stream",
          "text": "Populating the interactive namespace from numpy and matplotlib\n",
          "name": "stdout"
        }
      ]
    },
    {
      "execution_count": 3,
      "cell_type": "code",
      "metadata": {},
      "source": [
        "import dataiku\nfrom dataiku import pandasutils as pdu\nimport pandas as pd\nimport mlflow"
      ],
      "outputs": [
        {
          "output_type": "stream",
          "text": "/Users/christelleren/DSS/design/code-envs/python/py36_mlflow/lib/python3.6/site-packages/ipykernel_launcher.py:4: FutureWarning: MLflow support for Python 3.6 is deprecated and will be dropped in an upcoming release. At that point, existing Python 3.6 workflows that use MLflow will continue to work without modification, but Python 3.6 users will no longer get access to the latest MLflow features and bugfixes. We recommend that you upgrade to Python 3.7 or newer.\n  after removing the cwd from sys.path.\n",
          "name": "stderr"
        }
      ]
    },
    {
      "execution_count": 0,
      "cell_type": "code",
      "metadata": {},
      "source": [
        "project \u003d dataiku.api_client().get_default_project()\nmanaged_folder \u003d project.get_managed_folder(\u00278ip4v4B7\u0027)\n\nwith project.setup_mlflow(managed_folder\u003dmanaged_folder) as mlflow:\n\n    # Note: if you don\u0027t call this (i.e. when no experiment is specified), the default one is used\n    mlflow.set_experiment(\"My first experiment\")\n\n    with mlflow.start_run(run_name\u003d\"my_run\"):\n        # ...your MLflow code...\n        mlflow.log_param(\"a\", 1)\n        mlflow.log_metric(\"b\", 2)\n\n        # This uses the regular MLflow APIs"
      ],
      "outputs": []
    },
    {
      "execution_count": 0,
      "cell_type": "code",
      "metadata": {},
      "source": [
        "# Example: load a DSS dataset as a Pandas dataframe\nmydataset \u003d dataiku.Dataset(\"mydataset\")\nmydataset_df \u003d mydataset.get_dataframe()"
      ],
      "outputs": []
    },
    {
      "execution_count": 0,
      "cell_type": "code",
      "metadata": {},
      "source": [
        ""
      ],
      "outputs": []
    }
  ]
}