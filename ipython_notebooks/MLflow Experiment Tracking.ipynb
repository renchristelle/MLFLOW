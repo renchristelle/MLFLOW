{
  "metadata": {
    "kernelspec": {
      "name": "py-dku-venv-py36_mlflow",
      "display_name": "Python (env py36_mlflow)",
      "language": "python"
    },
    "creator": "admin",
    "createdOn": 1658303959370,
    "tags": [],
    "customFields": {},
    "hide_input": false,
    "language_info": {
      "name": "python",
      "version": "3.6.15",
      "mimetype": "text/x-python",
      "codemirror_mode": {
        "name": "ipython",
        "version": 3
      },
      "pygments_lexer": "ipython3",
      "nbconvert_exporter": "python",
      "file_extension": ".py"
    },
    "modifiedBy": "admin"
  },
  "nbformat": 4,
  "nbformat_minor": 1,
  "cells": [
    {
      "execution_count": 1,
      "cell_type": "code",
      "metadata": {},
      "source": [
        "%pylab inline"
      ],
      "outputs": [
        {
          "output_type": "stream",
          "text": "Populating the interactive namespace from numpy and matplotlib\n",
          "name": "stdout"
        }
      ]
    },
    {
      "execution_count": 2,
      "cell_type": "code",
      "metadata": {},
      "source": [
        "import dataiku\nfrom dataiku import pandasutils as pdu\nimport pandas as pd\nimport mlflow\nfrom dss_mlflow import preprocessing\nfrom sklearn.linear_model import ElasticNet"
      ],
      "outputs": [
        {
          "output_type": "stream",
          "text": "/Users/christelleren/DSS/design/code-envs/python/py36_mlflow/lib/python3.6/site-packages/pandas/compat/__init__.py:117: UserWarning: Could not import the lzma module. Your installed Python is incomplete. Attempting to use lzma compression will result in a RuntimeError.\n  warnings.warn(msg)\n/Users/christelleren/DSS/design/code-envs/python/py36_mlflow/lib/python3.6/site-packages/ipykernel_launcher.py:4: FutureWarning: MLflow support for Python 3.6 is deprecated and will be dropped in an upcoming release. At that point, existing Python 3.6 workflows that use MLflow will continue to work without modification, but Python 3.6 users will no longer get access to the latest MLflow features and bugfixes. We recommend that you upgrade to Python 3.7 or newer.\n  after removing the cwd from sys.path.\n",
          "name": "stderr"
        }
      ]
    },
    {
      "execution_count": 5,
      "cell_type": "code",
      "metadata": {},
      "source": [
        "project \u003d dataiku.api_client().get_default_project()\n\n#managed folder to store artefact\nmanaged_folder \u003d project.get_managed_folder(\u00278ip4v4B7\u0027)"
      ],
      "outputs": []
    },
    {
      "execution_count": 6,
      "cell_type": "code",
      "metadata": {},
      "source": [
        "# Read recipe inputs\ntrain_dataset \u003d dataiku.Dataset(\"training_data\")\ndf \u003d train_dataset.get_dataframe()"
      ],
      "outputs": []
    },
    {
      "execution_count": 9,
      "cell_type": "code",
      "metadata": {},
      "source": [
        "import numpy as np\nfrom sklearn.metrics import mean_squared_error, mean_absolute_error, r2_score\n\ndef eval_metrics(actual, pred):\n    rmse \u003d np.sqrt(mean_squared_error(actual, pred))\n    mae \u003d mean_absolute_error(actual, pred)\n    r2 \u003d r2_score(actual, pred)\n    return rmse, mae, r2"
      ],
      "outputs": []
    },
    {
      "execution_count": 10,
      "cell_type": "code",
      "metadata": {},
      "source": [
        "X, y \u003d preprocessing.clean_df(df)"
      ],
      "outputs": []
    },
    {
      "execution_count": 23,
      "cell_type": "code",
      "metadata": {
        "code_folding": [
          0
        ]
      },
      "source": [
        "## ElasticNet\n\nalpha \u003d 0.1\nl1_ratio \u003d 0.1\n\nwith project.setup_mlflow(managed_folder\u003dmanaged_folder) as mlflow:\n\n    # Note: if you don\u0027t call this (i.e. when no experiment is specified), the default one is used\n    mlflow.set_experiment(\"ElasticNet\")\n    \n    #MLflow Tracking autologging (automatically logs metrics, parameters, and models without explicit log statements)\n    mlflow.sklearn.autolog()\n\n    with mlflow.start_run(run_name\u003d\"my_run\"):\n        lr \u003d ElasticNet(alpha\u003dalpha, l1_ratio\u003dl1_ratio, random_state\u003d42)\n        lr.fit(X, y)\n\n\n        #(rmse, mae, r2) \u003d eval_metrics(y, predicted_qualities)\n\n        #mlflow.log_param(\"alpha\", alpha)\n        #lflow.log_param(\"l1_ratio\", l1_ratio)\n        #mlflow.log_metric(\"rmse\", rmse)\n        #mlflow.log_metric(\"r2\", r2)\n        #mlflow.log_metric(\"mae\", mae)\n        #mlflow.log_param(\"a\", 1)\n        #mlflow.log_metric(\"b\", 2)\n        #mlflow.sklearn.log_model(lr, \"model\")"
      ],
      "outputs": [
        {
          "output_type": "stream",
          "text": "2022/07/21 11:36:07 WARNING mlflow.utils.autologging_utils: MLflow autologging encountered a warning: \"/Users/christelleren/DSS/design/code-envs/python/py36_mlflow/lib/python3.6/site-packages/mlflow/types/utils.py:148: DeprecationWarning: ``mlflow.types.schema.column_types`` is deprecated since 1.14. This method will be removed in a near future release. Use ``mlflow.types.Schema.input_types`` instead.\"\n2022/07/21 11:36:07 WARNING mlflow.utils.autologging_utils: MLflow autologging encountered a warning: \"/Users/christelleren/DSS/design/code-envs/python/py36_mlflow/lib/python3.6/site-packages/mlflow/types/schema.py:361: DeprecationWarning: ``mlflow.types.schema.columns`` is deprecated since 1.14. This method will be removed in a near future release. Use ``mlflow.types.Schema.inputs`` instead.\"\n2022/07/21 11:36:07 WARNING mlflow.utils.autologging_utils: MLflow autologging encountered a warning: \"/Users/christelleren/DSS/design/code-envs/python/py36_mlflow/lib/python3.6/site-packages/mlflow/models/signature.py:129: UserWarning: Hint: Inferred schema contains integer column(s). Integer columns in Python cannot represent missing values. If your input data contains missing values at inference time, it will be encoded as floats and will cause a schema enforcement error. The best way to avoid this problem is to infer the model schema based on a realistic data sample (training dataset) that includes missing values. Alternatively, you can declare integer columns as doubles (float64) whenever these columns may have missing values. See `Handling Integers With Missing Values \u003chttps://www.mlflow.org/docs/latest/models.html#handling-integers-with-missing-values\u003e`_ for more details.\"\n",
          "name": "stderr"
        }
      ]
    },
    {
      "execution_count": 0,
      "cell_type": "code",
      "metadata": {},
      "source": [
        "## LogisticRegression\n\nalpha \u003d 0.1\nl1_ratio \u003d 0.1\n\nwith project.setup_mlflow(managed_folder\u003dmanaged_folder) as mlflow:\n\n    # Note: if you don\u0027t call this (i.e. when no experiment is specified), the default one is used\n    mlflow.set_experiment(\"ElasticNet\")\n    \n    #MLflow Tracking autologging (automatically logs metrics, parameters, and models without explicit log statements)\n    mlflow.sklearn.autolog()\n\n    with mlflow.start_run(run_name\u003d\"my_run\"):\n        lr \u003d ElasticNet(alpha\u003dalpha, l1_ratio\u003dl1_ratio, random_state\u003d42)\n        lr.fit(X, y)\n\n\n        #(rmse, mae, r2) \u003d eval_metrics(y, predicted_qualities)\n\n        #mlflow.log_param(\"alpha\", alpha)\n        #lflow.log_param(\"l1_ratio\", l1_ratio)\n        #mlflow.log_metric(\"rmse\", rmse)\n        #mlflow.log_metric(\"r2\", r2)\n        #mlflow.log_metric(\"mae\", mae)\n        #mlflow.log_param(\"a\", 1)\n        #mlflow.log_metric(\"b\", 2)\n        #mlflow.sklearn.log_model(lr, \"model\")"
      ],
      "outputs": []
    }
  ]
}