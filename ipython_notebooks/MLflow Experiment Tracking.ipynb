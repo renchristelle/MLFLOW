{
  "metadata": {
    "kernelspec": {
      "name": "py-dku-venv-py36_mlflow",
      "display_name": "Python (env py36_mlflow)",
      "language": "python"
    },
    "creator": "admin",
    "createdOn": 1658303959370,
    "tags": [],
    "customFields": {},
    "hide_input": false,
    "language_info": {
      "name": "python",
      "version": "3.6.15",
      "mimetype": "text/x-python",
      "codemirror_mode": {
        "name": "ipython",
        "version": 3
      },
      "pygments_lexer": "ipython3",
      "nbconvert_exporter": "python",
      "file_extension": ".py"
    },
    "modifiedBy": "admin"
  },
  "nbformat": 4,
  "nbformat_minor": 1,
  "cells": [
    {
      "execution_count": 1,
      "cell_type": "code",
      "metadata": {},
      "source": [
        "%pylab inline"
      ],
      "outputs": [
        {
          "output_type": "stream",
          "text": "Populating the interactive namespace from numpy and matplotlib\n",
          "name": "stdout"
        }
      ]
    },
    {
      "execution_count": 2,
      "cell_type": "code",
      "metadata": {},
      "source": [
        "import dataiku\nfrom dataiku import pandasutils as pdu\nimport pandas as pd\nimport mlflow"
      ],
      "outputs": [
        {
          "output_type": "stream",
          "text": "/Users/christelleren/DSS/design/code-envs/python/py36_mlflow/lib/python3.6/site-packages/pandas/compat/__init__.py:117: UserWarning: Could not import the lzma module. Your installed Python is incomplete. Attempting to use lzma compression will result in a RuntimeError.\n  warnings.warn(msg)\n/Users/christelleren/DSS/design/code-envs/python/py36_mlflow/lib/python3.6/site-packages/ipykernel_launcher.py:4: FutureWarning: MLflow support for Python 3.6 is deprecated and will be dropped in an upcoming release. At that point, existing Python 3.6 workflows that use MLflow will continue to work without modification, but Python 3.6 users will no longer get access to the latest MLflow features and bugfixes. We recommend that you upgrade to Python 3.7 or newer.\n  after removing the cwd from sys.path.\n",
          "name": "stderr"
        }
      ]
    },
    {
      "execution_count": 3,
      "cell_type": "code",
      "metadata": {},
      "source": [
        "from dss_mlflow import preprocessing"
      ],
      "outputs": []
    },
    {
      "execution_count": 4,
      "cell_type": "code",
      "metadata": {},
      "source": [
        "from sklearn.linear_model import ElasticNet"
      ],
      "outputs": []
    },
    {
      "execution_count": 5,
      "cell_type": "code",
      "metadata": {},
      "source": [
        "project \u003d dataiku.api_client().get_default_project()\nmanaged_folder \u003d project.get_managed_folder(\u00278ip4v4B7\u0027)"
      ],
      "outputs": []
    },
    {
      "execution_count": 6,
      "cell_type": "code",
      "metadata": {},
      "source": [
        "# Read recipe inputs\ntrain_dataset \u003d dataiku.Dataset(\"training_data\")\ndf \u003d train_dataset.get_dataframe()"
      ],
      "outputs": []
    },
    {
      "execution_count": 9,
      "cell_type": "code",
      "metadata": {},
      "source": [
        "import numpy as np\nfrom sklearn.metrics import mean_squared_error, mean_absolute_error, r2_score\n\ndef eval_metrics(actual, pred):\n    rmse \u003d np.sqrt(mean_squared_error(actual, pred))\n    mae \u003d mean_absolute_error(actual, pred)\n    r2 \u003d r2_score(actual, pred)\n    return rmse, mae, r2\n\nalpha \u003d 0.5\nl1_ratio \u003d 0.5"
      ],
      "outputs": []
    },
    {
      "execution_count": 10,
      "cell_type": "code",
      "metadata": {},
      "source": [
        "X, y \u003d preprocessing.clean_df(df)"
      ],
      "outputs": []
    },
    {
      "execution_count": 11,
      "cell_type": "code",
      "metadata": {},
      "source": [
        "with project.setup_mlflow(managed_folder\u003dmanaged_folder) as mlflow:\n\n    # Note: if you don\u0027t call this (i.e. when no experiment is specified), the default one is used\n    mlflow.set_experiment(\"My first experiment\")\n\n    with mlflow.start_run(run_name\u003d\"my_run\"):\n        lr \u003d ElasticNet(alpha\u003dalpha, l1_ratio\u003dl1_ratio, random_state\u003d42)\n        lr.fit(X, y)\n\n        predicted_qualities \u003d lr.predict(X)\n\n        (rmse, mae, r2) \u003d eval_metrics(y, predicted_qualities)\n\n        mlflow.log_param(\"alpha\", alpha)\n        mlflow.log_param(\"l1_ratio\", l1_ratio)\n        mlflow.log_metric(\"rmse\", rmse)\n        mlflow.log_metric(\"r2\", r2)\n        mlflow.log_metric(\"mae\", mae)\n        mlflow.log_param(\"a\", 1)\n        mlflow.log_metric(\"b\", 2)"
      ],
      "outputs": []
    },
    {
      "execution_count": 12,
      "cell_type": "code",
      "metadata": {},
      "source": [
        "\nfrom urllib.parse import urlparse"
      ],
      "outputs": []
    },
    {
      "execution_count": 13,
      "cell_type": "code",
      "metadata": {},
      "source": [
        "urlparse(mlflow.get_tracking_uri()).scheme"
      ],
      "outputs": [
        {
          "output_type": "execute_result",
          "execution_count": 13,
          "data": {
            "text/plain": "\u0027file\u0027"
          },
          "metadata": {}
        }
      ]
    },
    {
      "execution_count": 0,
      "cell_type": "code",
      "metadata": {},
      "source": [
        "\ntracking_url_type_store \u003d urlparse(mlflow.get_tracking_uri()).scheme"
      ],
      "outputs": []
    }
  ]
}